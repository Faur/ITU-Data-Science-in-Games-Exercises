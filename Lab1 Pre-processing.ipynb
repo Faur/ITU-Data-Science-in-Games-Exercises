{
 "cells": [
  {
   "attachments": {},
   "cell_type": "markdown",
   "metadata": {},
   "source": [
    "# Lab1 Python for data science!\n",
    "\n",
    "This is an introductory class\n",
    "\n",
    "The objectives of this lab is for you to get:\n",
    "* familiar with the lab strucutre\n",
    "* a Python crash course / reminder\n",
    "* an introduction / reminder to key data science libraries (Numpy, Pandas)\n",
    "* experience with loading, validating, and visualizing data.\n",
    "\n",
    "## Lab structure\n",
    "The labs will be made available on [GitHub](https://github.com/Faur/ITU-Data-Science-in-Games-Exercises) on a roling basis.\n",
    "You can update your local version through the notebook by removing the comment symbol `#` in the cell below.\n",
    "(`!` tells the notebook to run the command in the terminal, instead of in thr Python interpriter).\n",
    "\n",
    "Some important notes\n",
    "* Shut down notebooks when you are done. Otherwise we will run out of resources, and be forced to restart the servers.\n",
    "* Server storage is volatile! I.e. you must **save everything locally** that you don't want to loose."
   ]
  },
  {
   "cell_type": "code",
   "execution_count": null,
   "metadata": {},
   "outputs": [],
   "source": [
    "# ! git pull"
   ]
  },
  {
   "cell_type": "markdown",
   "metadata": {},
   "source": [
    "## Python Crash Course\n",
    "\n",
    "If you are new to Python [this 45 min video](https://www.youtube.com/watch?v=N4mEzFDjqtA) gives a good introduction to the key concepts.\n"
   ]
  },
  {
   "cell_type": "code",
   "execution_count": null,
   "metadata": {},
   "outputs": [],
   "source": [
    "# Makes matplotlib plots work better with Jupyter\n",
    "%matplotlib inline  \n",
    "\n",
    "# Import the necessary libraries. \n",
    "import os\n",
    "\n",
    "import numpy as np\n",
    "import pandas as pd\n",
    "import matplotlib.pyplot as plt\n",
    "import seaborn as sns"
   ]
  },
  {
   "cell_type": "markdown",
   "metadata": {},
   "source": [
    "## Task 1: Loading the data\n",
    "\n",
    "The first this first assignment you must \n",
    "\n",
    "1) load the data in `./data/Data-Mining-Spring-2018.csv` using **`pandas`**.\n",
    "Pandas is an open-source Python library providing high-performance, easy-to-use data structures and data analysis tools.\n",
    "It is very popular among data scientists and statisticians as it allows you to work very quickly and efficiently.\n",
    "\n",
    "2) Make sense of the data by printing the first 20 values. Determine the number of observations and features in the data, and have a quick look at what types they are (or should be).\n"
   ]
  },
  {
   "cell_type": "code",
   "execution_count": null,
   "metadata": {},
   "outputs": [],
   "source": [
    "# Check that data and data path is present\n",
    "assert os.path.isdir(\"./data\") and os.path.exists(\"./data/Data-Mining-Spring-2018.csv\"), 'Data not found. Make sure to have the most recent version!'\n"
   ]
  },
  {
   "cell_type": "code",
   "execution_count": null,
   "metadata": {},
   "outputs": [],
   "source": [
    "## YOUR CODE HERE \n",
    "data = pd.read_csv('data/Data-Mining-Spring-2018.csv', sep=\",\")\n",
    "print('Data shape:', data.shape)\n",
    "print('I.e. there are',data.shape[0],'observations, each with',data.shape[1],'features.')\n",
    "# print(data.columns.values)  # <-- Print the name of the feature.\n",
    "\n",
    "data[:20]"
   ]
  },
  {
   "cell_type": "markdown",
   "metadata": {},
   "source": [
    "## Task 2: Cleaning the data\n",
    "1) We don't want to work with all the features for this exercise. Select a subset of the features, as defined by `feature_sub` (cell below)\n",
    "\n",
    "2) Rename the columns, such that `What degree are you studying?` becomes `Degree`, and `Shoe Size` becomes `ShoeSize`. Not having spaces (or long names) makes it easier to work with the data in `pandas`.\n",
    " * Look at the `rename` method.\n",
    "\n",
    "2) Convert the columns to the appropriate data formats (e.g. `Age` should be a float).\n",
    " * `to_numeric` is a useful method (but not the only way) to convert strings to numerical values, and the `errors` can be used to handle errors.\n",
    " * `dropna` can be used to remove `nan` values.\n",
    "\n",
    "3) Visualize each of the numerical featues (Age, ShoeSize, Height). The objective here is to see if there are any outliers that we want to take care off"
   ]
  },
  {
   "cell_type": "code",
   "execution_count": null,
   "metadata": {},
   "outputs": [],
   "source": [
    "feature_sub = ['Age', 'Gender', 'Shoe Size', 'Height', 'What degree are you studying?']"
   ]
  },
  {
   "cell_type": "code",
   "execution_count": null,
   "metadata": {},
   "outputs": [],
   "source": [
    "## YOUR CODE HERE\n",
    "\n",
    "# 1\n",
    "data_sub = data[feature_sub]\n",
    "\n",
    "# 2\n",
    "data_sub = data_sub.rename(columns={'What degree are you studying?': \"Degree\"})\n",
    "data_sub = data_sub.rename(columns={'Shoe Size': \"ShoeSize\"})\n",
    "\n",
    "# 3\n",
    "data_sub['Age'] = pd.to_numeric(data_sub['Age'], errors='coerce')\n",
    "data_sub['ShoeSize'] = pd.to_numeric(data_sub['ShoeSize'], errors='coerce')\n",
    "data_sub['Height'] = pd.to_numeric(data_sub['Height'], errors='coerce')\n",
    "data_sub = data_sub.dropna()\n",
    "\n",
    "# 4\n",
    "def hist_plot(data):\n",
    "    plt.figure(figsize=[8,8])\n",
    "\n",
    "    plt.subplot(211)\n",
    "    plt.hist(data.Age.values)\n",
    "    plt.title(\"Age\")\n",
    "\n",
    "    plt.subplot(223)\n",
    "    plt.hist(data.ShoeSize.values)\n",
    "    plt.title(\"ShoeSize\")\n",
    "\n",
    "    plt.subplot(224)\n",
    "    plt.hist(data.Height.values)\n",
    "    plt.title(\"Height\")\n",
    "\n",
    "    plt.tight_layout()\n",
    "    plt.show()\n",
    "hist_plot(data_sub)"
   ]
  },
  {
   "cell_type": "markdown",
   "metadata": {},
   "source": [
    "## Task 3: Remove Invalid values\n",
    "\n",
    "This taks is more subjective than the others.\n",
    "You will use your domain knowledge to determine what are reasonable values for each of these features, and remove the invalid ones.\n",
    "\n",
    "1) Remove invalid data points.\n",
    " * `loc` is useful for this.\n",
    "\n",
    "2) Visualize the data agin. If it still looks strange go back to 1)\n",
    "\n"
   ]
  },
  {
   "cell_type": "code",
   "execution_count": null,
   "metadata": {},
   "outputs": [],
   "source": [
    "## YOUR CODE HERE\n",
    "data_sub.loc[data_sub.Age.map(lambda x: not 10.0 <= x <= 70.0), 'Age'] = np.nan\n",
    "data_sub.loc[data_sub.ShoeSize.map(lambda x: not 20.0 <= x <= 60.0), 'ShoeSize'] = np.nan\n",
    "data_sub.loc[data_sub.Height.map(lambda x: not 100.0 <= x <= 250.0), 'Height'] = np.nan\n",
    "data_sub = data_sub.dropna()\n",
    "\n",
    "data_sub.info()\n",
    "data_sub[:10]"
   ]
  },
  {
   "cell_type": "markdown",
   "metadata": {},
   "source": [
    "## Task 4: Convert Genter to Integers\n",
    "We often prefer working with integer class labels, rather than strings. \n",
    "As you can see the gender has been specified in several different ways, so you need to do some work making the data nicer.\n",
    "For this taks you should:\n",
    "\n",
    "1) convert males to 0, females to 1, and other for 2\n",
    "\n",
    "2) Determine the ratio of the three categories?"
   ]
  },
  {
   "cell_type": "code",
   "execution_count": null,
   "metadata": {},
   "outputs": [],
   "source": [
    "## YOUR CODE HERE\n",
    "data_sub['Gender'] = data_sub['Gender'].apply(lambda x: x.lower())\n",
    "\n",
    "data_sub.loc[data_sub.Gender.map(lambda x: x in ['man', 'male', 'alpha male', 'man ', 'm']), 'Gender'] = '0'\n",
    "data_sub.loc[data_sub.Gender.map(lambda x: x in ['f', 'female', 'woman']), 'Gender'] = '1'\n",
    "data_sub[['Gender']] = pd.to_numeric(data_sub['Gender'], errors='coerce')\n",
    "data_sub.loc[data_sub.Gender.map(lambda x: np.isnan(x)), 'Gender'] = 2\n",
    "\n",
    "data_sub[:20]\n"
   ]
  },
  {
   "cell_type": "markdown",
   "metadata": {},
   "source": [
    "## Task 5: Visualize the Data"
   ]
  },
  {
   "cell_type": "code",
   "execution_count": null,
   "metadata": {},
   "outputs": [],
   "source": [
    "sns.set(style=\"ticks\")\n",
    "\n",
    "sns.pairplot(data_sub, hue=\"Degree\")"
   ]
  },
  {
   "cell_type": "code",
   "execution_count": null,
   "metadata": {},
   "outputs": [],
   "source": []
  }
 ],
 "metadata": {
  "kernelspec": {
   "display_name": "Python 3",
   "language": "python",
   "name": "python3"
  },
  "language_info": {
   "codemirror_mode": {
    "name": "ipython",
    "version": 3
   },
   "file_extension": ".py",
   "mimetype": "text/x-python",
   "name": "python",
   "nbconvert_exporter": "python",
   "pygments_lexer": "ipython3",
   "version": "3.6.5"
  }
 },
 "nbformat": 4,
 "nbformat_minor": 2
}
