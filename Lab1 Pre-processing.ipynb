{
 "cells": [
  {
   "attachments": {},
   "cell_type": "markdown",
   "metadata": {},
   "source": [
    "# Lab1 Python for data science!\n",
    "\n",
    "This is an introductory class\n",
    "\n",
    "The objectives of this lab is for you to get:\n",
    "* familiar with the lab strucutre\n",
    "* a Python crash course / reminder\n",
    "* an introduction / reminder to key data science libraries (Numpy, Pandas)\n",
    "* experience with loading, validating, and visualizing data.\n",
    "\n",
    "## Lab structure\n",
    "The labs will be made available on [GitHub](https://github.com/Faur/ITU-Data-Science-in-Games-Exercises) on a roling basis.\n",
    "You can update your local version through the notebook by removing the comment symbol `#` in the cell below.\n",
    "(`!` tells the notebook to run the command in the terminal, instead of in thr Python interpriter).\n",
    "\n",
    "Some important notes\n",
    "* Shut down notebooks when you are done. Otherwise we will run out of resources, and be forced to restart the servers.\n",
    "* Server storage is volatile! I.e. you must **save everything locally** that you don't want to loose."
   ]
  },
  {
   "cell_type": "code",
   "execution_count": null,
   "metadata": {},
   "outputs": [],
   "source": [
    "# ! git pull"
   ]
  },
  {
   "cell_type": "markdown",
   "metadata": {},
   "source": [
    "## Python Crash Course\n",
    "\n",
    "If you are new to Python [this 45 min video](https://www.youtube.com/watch?v=N4mEzFDjqtA) gives a good introduction to the key concepts.\n"
   ]
  },
  {
   "cell_type": "markdown",
   "metadata": {},
   "source": [
    "## Numpy\n",
    "\n",
    "## Pandas \n",
    "Pandas is an open-source Python library providing high-performance, easy-to-use data structures and data analysis tools.\n",
    "It is very popular among data scientists and statisticians as it allows you to work very quickly and efficiently."
   ]
  },
  {
   "cell_type": "code",
   "execution_count": null,
   "metadata": {},
   "outputs": [],
   "source": [
    "%matplotlib inline\n",
    "import numpy as np\n",
    "import pandas as pd\n",
    "import matplotlib.pyplot as plt\n",
    "\n",
    "data = pd.read_csv('data/Data-Mining-Spring-2018.csv', sep=\",\")\n",
    "print(data.shape)\n",
    "print('I.e. there are',data.shape[0],'data points with',data.shape[1],'features.')\n",
    "# print(data.columns.values)  # <-- Print the name of the feature.\n"
   ]
  },
  {
   "cell_type": "code",
   "execution_count": null,
   "metadata": {},
   "outputs": [],
   "source": [
    "# print(data.columns.values)\n",
    "\n",
    "feature_sub = ['Age', 'Gender', 'Shoe Size', 'Height', 'What degree are you studying?']\n",
    "\n",
    "data_sub = data[feature_sub]\n",
    "data_sub = data_sub.rename(columns={'What degree are you studying?': \"Degree\"})\n",
    "data_sub = data_sub.rename(columns={'Shoe Size': \"ShoeSize\"})\n",
    "\n",
    "data_sub['Age'] = pd.to_numeric(data_sub['Age'], errors='coerce')\n",
    "data_sub.loc[data_sub.Age.map(lambda x: not 10.0 <= x <= 70.0), 'Age'] = np.nan\n",
    "\n",
    "data_sub['ShoeSize'] = pd.to_numeric(data_sub['ShoeSize'], errors='coerce')\n",
    "data_sub.loc[data_sub.ShoeSize.map(lambda x: not 20.0 <= x <= 60.0), 'ShoeSize'] = np.nan\n",
    "\n",
    "data_sub['Height'] = pd.to_numeric(data_sub['Height'], errors='coerce')\n",
    "data_sub.loc[data_sub.Height.map(lambda x: not 100.0 <= x <= 250.0), 'Height'] = np.nan\n",
    "\n",
    "data_sub = data_sub.dropna()\n",
    "data_sub\n"
   ]
  },
  {
   "cell_type": "code",
   "execution_count": null,
   "metadata": {},
   "outputs": [],
   "source": [
    "data_sub['Gender'] = data_sub['Gender'].apply(lambda x: x.lower())\n",
    "\n",
    "data_sub.loc[data_sub.Gender.map(lambda x: x in ['man', 'male', 'alpha male', 'man ', 'm']), 'Gender'] = '0'\n",
    "data_sub.loc[data_sub.Gender.map(lambda x: x in ['f', 'female', 'woman']), 'Gender'] = '1'\n",
    "data_sub[['Gender']] = pd.to_numeric(data_sub['Gender'], errors='coerce')\n",
    "data_sub.loc[data_sub.Gender.map(lambda x: np.isnan(x)), 'Gender'] = 3\n",
    "\n",
    "data_sub[:20]\n"
   ]
  },
  {
   "cell_type": "code",
   "execution_count": null,
   "metadata": {},
   "outputs": [],
   "source": [
    "print(data_sub.shape)\n",
    "print('I.e. there are',data_sub.shape[0],'data points with',data_sub.shape[1],'features.')\n",
    "\n",
    "data_sub.info()"
   ]
  },
  {
   "cell_type": "code",
   "execution_count": null,
   "metadata": {},
   "outputs": [],
   "source": [
    "data_sub.columns.values"
   ]
  },
  {
   "cell_type": "code",
   "execution_count": null,
   "metadata": {},
   "outputs": [],
   "source": [
    "plt.figure(figsize=[8,8])\n",
    "plot_fun = plt.hist\n",
    "# plot_fun = plt.boxplot\n",
    "\n",
    "plt.subplot(221)\n",
    "plot_fun(data_sub.Age.values)\n",
    "plt.title(\"Age\")\n",
    "\n",
    "plt.subplot(222)\n",
    "plot_fun(data_sub.Gender.values)\n",
    "plt.title(\"Gender\")\n",
    "\n",
    "plt.subplot(223)\n",
    "plot_fun(data_sub.ShoeSize.values)\n",
    "plt.title(\"ShoeSize\")\n",
    "\n",
    "plt.subplot(224)\n",
    "plot_fun(data_sub.Height.values)\n",
    "plt.title(\"Height\")\n",
    "\n",
    "plt.tight_layout()\n",
    "plt.show()\n",
    "\n"
   ]
  },
  {
   "cell_type": "code",
   "execution_count": null,
   "metadata": {},
   "outputs": [],
   "source": [
    "import seaborn as sns\n",
    "sns.set(style=\"ticks\")\n",
    "\n",
    "sns.pairplot(data_sub, hue=\"Degree\")"
   ]
  },
  {
   "cell_type": "code",
   "execution_count": null,
   "metadata": {},
   "outputs": [],
   "source": [
    "import os"
   ]
  },
  {
   "cell_type": "code",
   "execution_count": null,
   "metadata": {},
   "outputs": [],
   "source": [
    "# Check if data is there\n",
    "# if not put data there\n",
    "\n",
    "print(os.path.isdir(\"./data\"))\n",
    "print(os.path.exists(\"./data/fifa.csv\"))\n"
   ]
  }
 ],
 "metadata": {
  "kernelspec": {
   "display_name": "Python 3",
   "language": "python",
   "name": "python3"
  },
  "language_info": {
   "codemirror_mode": {
    "name": "ipython",
    "version": 3
   },
   "file_extension": ".py",
   "mimetype": "text/x-python",
   "name": "python",
   "nbconvert_exporter": "python",
   "pygments_lexer": "ipython3",
   "version": "3.6.5"
  }
 },
 "nbformat": 4,
 "nbformat_minor": 2
}
