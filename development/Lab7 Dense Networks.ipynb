{
  "cells": [
    {
      "cell_type": "markdown",
      "metadata": {
        "pycharm": {}
      },
      "source": [
        "# Dense Networks with Keras and TensorFlow\n",
        "\n",
        "TensorFlow is an open source software library for numerical computation that can be used for many things, but is mostly know for its use in machine learning and especially in deep learning.\n",
        "Since its release in 2015 it has quickly become one of the most popular and most actively developed libraries for deep learning.\n",
        "TensorFlow represents computations as graphs, which enables simple parallelization (as opposed to sequentially), and automatic differentiation.\n",
        "\n",
        "Pure TensorFlow is very verbose, and it is therefore a good idea to use a high-level API.\n",
        "Doing so simplifies and speeds-up development, reduces the risk of bugs, and generally reduces headache.\n",
        "The officially supported high-level API is **[Keras](https://keras.io/)**, and will be the focus of this lab.\n",
        "\n",
        "\n",
        "### External resources\n",
        "If you want a deeper dive the following are good places to start:\n",
        "\n",
        "* [Deep Learning course exercises from DTU](https://github.com/DeepLearningDTU/02456-deep-learning) - more hands on TensorFlow exercises.\n",
        "* [Official TensorFlow getting started material](https://www.tensorflow.org/get_started/) - collection of good tutorials from beginer to quite advanced.\n",
        "* [Official Keras getting started marerial](https://keras.io/getting-started/functional-api-guide/)\n",
        "* [API documentation](https://www.tensorflow.org/api_docs/python/) - Most of the documentation for TF is written into the code, so the best way to figure out how somethings works is often to look it up in the API, and then look at the implementation. The [API guides](https://www.tensorflow.org/api_guides/python/array_ops) can also be very useful sometimes.\n"
      ]
    },
    {
      "cell_type": "code",
      "execution_count": null,
      "metadata": {
        "pycharm": {}
      },
      "outputs": [],
      "source": [
        "# Loading dependancies and supporting functions by running the code block below.\n",
        "from __future__ import absolute_import, division, print_function \n",
        "\n",
        "import time\n",
        "import sys, os\n",
        "\n",
        "%matplotlib inline\n",
        "import matplotlib\n",
        "import matplotlib.pyplot as plt\n",
        "plt.style.use(\u0027ggplot\u0027)\n",
        "\n",
        "import numpy as np\n",
        "from IPython.display import clear_output\n",
        "import tensorflow as tf\n",
        "from tensorflow import keras\n",
        "from tensorflow.python.keras.callbacks import TensorBoard\n",
        "\n",
        "from sklearn.preprocessing import OneHotEncoder"
      ]
    },
    {
      "cell_type": "markdown",
      "metadata": {
        "pycharm": {}
      },
      "source": [
        "# The data\n",
        "\n",
        "For this exercise we will use the [fashion-MNIST](https://github.com/zalandoresearch/fashion-mnist) dataset.\n",
        "Like the classical MNIST data set it consists of images `28x28` grayscale images of of 10 different classes, and the objective is to correctly classify as many of them as possible.\n",
        "Fashion-MNIST is however more challenging (though still a toy-dataset), making it more interesting to work with."
      ]
    },
    {
      "cell_type": "code",
      "execution_count": null,
      "metadata": {
        "pycharm": {}
      },
      "outputs": [],
      "source": [
        "# Download and load data\n",
        "mnist \u003d keras.datasets.fashion_mnist\n",
        "\n",
        "(x_train, y_train_),(x_test, y_test_) \u003d mnist.load_data()\n",
        "x_train, x_test \u003d x_train / 255.0, x_test / 255.0  # Normalize data to [0, 1] interval\n",
        "\n",
        "## Print dataset statistics and visualize\n",
        "print(\"\"\"Information on dataset\n",
        "----------------------\"\"\")\n",
        "print(\"Training data shape:\\t\", x_train.shape, y_train_.shape)\n",
        "print(\"Test data shape\\t\\t\", x_test.shape, y_test_.shape)"
      ]
    },
    {
      "cell_type": "markdown",
      "metadata": {
        "pycharm": {}
      },
      "source": [
        "Fashion-MNIST consists of images of 10 different types of clothing.\n",
        "The labels are:\n",
        "\n",
        "| Label:       | 0           | 1       | 2        | 3     |    4 | 5     | 6      | 7      | 8   |   9 |\n",
        "| -| -| -| -| -| -| -| -| -| -| -|\n",
        "| **Description:** | T-shirt/top | Trouser | Pullover | Dress | Coat | Sandal | Shirt | Sneaker | Bag | Ankle boot |\n"
      ]
    },
    {
      "cell_type": "code",
      "execution_count": null,
      "metadata": {
        "pycharm": {}
      },
      "outputs": [],
      "source": [
        "## Plot a few MNIST examples\n",
        "img_to_show \u003d 5\n",
        "idx \u003d 0\n",
        "canvas \u003d np.zeros((28*img_to_show, img_to_show*28))\n",
        "print(\u0027\\nLabels\u0027)\n",
        "for i in range(img_to_show):\n",
        "    for j in range(img_to_show):\n",
        "        canvas[i*28:(i+1)*28, j*28:(j+1)*28] \u003d x_train[idx]#mnist_data.train.images[idx].reshape((28, 28))\n",
        "        print(y_train_[idx], end\u003d\u0027, \u0027)\n",
        "        idx +\u003d 1\n",
        "    print()\n",
        "\n",
        "print(\u0027\\nInput data\u0027)\n",
        "plt.figure(figsize\u003d(6,6))\n",
        "plt.axis(\u0027off\u0027)\n",
        "plt.imshow(canvas, cmap\u003d\u0027gray\u0027)\n",
        "plt.title(\u0027fashion-MNIST data\u0027)\n",
        "plt.show()"
      ]
    },
    {
      "cell_type": "markdown",
      "metadata": {
        "pycharm": {}
      },
      "source": [
        "## One-hot encoding\n",
        "Class labels for neural netowrks (almost) always use **one-hot encoding**.\n",
        "Rather than using the integers directly they are encoded as binary vectors with one bit with the value `1`, and the rest `0`.\n",
        "The position of the `1` indicates the label.\n",
        "The code below converts the integer labels to one-hot labels."
      ]
    },
    {
      "cell_type": "code",
      "execution_count": null,
      "metadata": {
        "pycharm": {}
      },
      "outputs": [],
      "source": [
        "y_train \u003d OneHotEncoder(categories\u003d\u0027auto\u0027, sparse\u003dFalse).fit_transform(y_train_[:,None])\n",
        "y_test \u003d OneHotEncoder(categories\u003d\u0027auto\u0027, sparse\u003dFalse).fit_transform(y_test_[:,None])\n",
        "\n",
        "for i in range(10):\n",
        "    print(y_train_[i], \u0027--\u003e\u0027, y_train[i,:])\n"
      ]
    },
    {
      "cell_type": "markdown",
      "metadata": {
        "pycharm": {}
      },
      "source": [
        "# Elements of Learning\n",
        "Many parts of deep learning are still more art than science.\n",
        "When defining and training a deep network there are many options, and no proven method of finding the best (or a good) configuration.\n",
        "Hyperparameters can be found by experience (guessing) or some search procedure. \n",
        "Random search is easy to implement and performs decently: http://www.jmlr.org/papers/volume13/bergstra12a/bergstra12a.pdf.\n",
        "More advanced search procedures include [SPEARMINT](https://github.com/JasperSnoek/spearmint) and many others.\n",
        "\n",
        "Some important factors, and good starting points are given below."
      ]
    },
    {
      "cell_type": "markdown",
      "metadata": {
        "pycharm": {}
      },
      "source": [
        "## Ballpark estimates of hyperparameters\n",
        "__Number of hidden units and network architecture__\n",
        "* Probably as big network as possible (memory and time constraints) and then apply regularization. \n",
        "   You\u0027ll have to experiment :). \n",
        "   One rarely goes below 256 units for feedforward networks unless your are training on CPU...\n",
        "   Theres is some research into stochastic depth networks: https://arxiv.org/pdf/1603.09382v2.pdf, but in general this is trial and error.\n",
        "   \n",
        "   \n",
        "__Loss function__\n",
        "The [loss function](https://keras.io/losses/) is typically determiend by the problem, but there is some flexibility here as well.\n",
        "Broadly speaking we use:\n",
        " * Cross entropy for classification (discrete targets)\n",
        " * Mean squared error for regression (continuous targets)\n",
        " \n",
        "__Parameter initialization__\n",
        "    [Parameter initialization](](https://keras.io/initializers/)) is extremely important. There are a lot of different initializers. Often used initializer are\n",
        "    1. He\n",
        "    2. Glorot\n",
        "    3. Uniform or Normal with small scale. (0.1 - 0.01)\n",
        "    4. Orthogonal (works well for RNNs, somtimes)\n",
        "\n",
        "Bias is nearly always initialized to zero.\n",
        "   \n",
        "__Nonlinearity__: The most commonly used [nonliearities](https://keras.io/activations/) are:    \n",
        "    1. ReLU\n",
        "    2. Leaky ReLU\n",
        "    3. Elu\n",
        "    3. Sigmoids are used if your output is binary. It is not used in the hidden layers. Squases the output between -1 and 1\n",
        "    4. Softmax used as output if you have a classification problem. Normalizes the the output to 1. )\n",
        "\n",
        "__Regularization:__\n",
        "    1. Dropout: Dropout rate 0.1-0.5\n",
        "    2. [L2 and L1 regularization](https://keras.io/regularizers/): 1e-4 - 1e-8.\n",
        "    3. [Batchnorm](https://keras.io/layers/normalization/): Batchnorm also acts as a regularizer.\n",
        "    Often very useful (faster and better convergence)\n",
        "    4. Early stopping: Very frequently used.\n",
        "    \n",
        "__Optimizers:__\n",
        "    1. SGD + Momentum: learning rate 1.0 - 0.1 \n",
        "    2. ADAM: learning rate 3*1e-4 - 1e-5\n",
        "    3. RMSPROP: somewhere between SGD and ADAM\n",
        "\n",
        "__mini-batch size__\n",
        "* Usually people use 16-256. Bigger is not allways better. With smaller mini-batch size you get more updates and your model might converge faster. Also small batchsizes uses less memory -\u003e you can train a model with more parameters.\n"
      ]
    },
    {
      "cell_type": "code",
      "execution_count": null,
      "metadata": {
        "pycharm": {}
      },
      "outputs": [],
      "source": [
        "# Create list to hold experiments - but don\u0027t overwrite, even if we re-run this cell.\n",
        "try:\n",
        "    experiments\n",
        "except NameError:\n",
        "    experiments \u003d []"
      ]
    },
    {
      "cell_type": "code",
      "execution_count": null,
      "metadata": {
        "pycharm": {}
      },
      "outputs": [],
      "source": [
        "## Helper functions\n",
        "def visualize_experiments(experiments):\n",
        "    fig \u003d plt.figure(figsize\u003d(8,6))\n",
        "    for experiment in experiments:\n",
        "        exp_name, _, info \u003d experiment\n",
        " \n",
        "        ax \u003d plt.subplot(\"211\")\n",
        "        ax.set_title(\u0027Validation Accuracy\u0027)\n",
        "        plt.plot(info.history[\u0027val_acc\u0027], label\u003dexp_name)\n",
        "        plt.legend()\n",
        "\n",
        "        ax \u003d plt.subplot(\"212\")\n",
        "        ax.set_title(\u0027Validation Loss\u0027)\n",
        "        plt.plot(info.history[\u0027val_loss\u0027], label\u003dexp_name)\n",
        "        plt.legend()\n",
        "\n",
        "    plt.tight_layout()\n",
        "    plt.show()\n",
        "\n",
        "\n",
        "def visualize_info(experiment):\n",
        "    name, _, info \u003d experiment\n",
        "    print(\u0027Params:\u0027)\n",
        "    for key in info.params:\n",
        "        print(\u0027{:20}\u0027.format(key), info.params[key])\n",
        "    \n",
        "    fig \u003d plt.figure(figsize\u003d(8,6))\n",
        "    ax \u003d plt.subplot(\"211\")\n",
        "    ax.set_title(\u0027Accuracy: \u0027+ name)\n",
        "    plt.plot(info.history[\u0027val_acc\u0027], label\u003d\u0027val_acc\u0027)\n",
        "    plt.plot(info.history[\u0027acc\u0027], label\u003d\u0027train_acc\u0027)\n",
        "    plt.legend()\n",
        "\n",
        "    ax \u003d plt.subplot(\"212\")\n",
        "    ax.set_title(\u0027Loss: \u0027 + name)\n",
        "    plt.plot(info.history[\u0027val_loss\u0027], label\u003d\u0027val_loss\u0027)\n",
        "    plt.plot(info.history[\u0027loss\u0027], label\u003d\u0027loss\u0027)\n",
        "    plt.legend()\n",
        "    \n",
        "    plt.tight_layout()\n",
        "    plt.show()\n",
        "\n",
        "    \n",
        "def keep_best(experiments, n):\n",
        "    \"\"\" Return the n best experiments.\"\"\"\n",
        "    if len(experiments) \u003c n:\n",
        "        return experiments\n",
        "    \n",
        "    exp_sorted \u003d sorted(experiments, key\u003dlambda x: np.max(x[2].history[\u0027val_acc\u0027]), reverse\u003dTrue)\n",
        "    return exp_sorted[:n]\n"
      ]
    },
    {
      "cell_type": "code",
      "execution_count": null,
      "metadata": {
        "pycharm": {}
      },
      "outputs": [],
      "source": [
        "# Training function\n",
        "def train(model, loss, optimizer, num_epochs, exp_name\u003dNone, use_tensorboard\u003dFalse):    \n",
        "    exp_name \u003d exp_name or \u0027log_{:.0f}\u0027.format(time.time()*100)\n",
        "    \n",
        "    model.compile(optimizer\u003doptimizer,\n",
        "                  loss\u003dloss,\n",
        "                  metrics\u003d[\u0027accuracy\u0027])\n",
        "\n",
        "    if use_tensorboard:\n",
        "        tensorboard \u003d TensorBoard(log_dir\u003d\u0027logdir/\u0027+exp_name)\n",
        "        fit_info \u003d model.fit(x_train, y_train, epochs\u003dnum_epochs, batch_size\u003d256, validation_split\u003d0.1, callbacks\u003d[tensorboard])\n",
        "    else:\n",
        "        fit_info \u003d model.fit(x_train, y_train, epochs\u003dnum_epochs, batch_size\u003d256, validation_split\u003d0.1)\n",
        "    return exp_name, model, fit_info"
      ]
    },
    {
      "cell_type": "markdown",
      "metadata": {
        "pycharm": {}
      },
      "source": [
        "# Your Task\n",
        "is to create the best network as possible, and attain the highest validation performance you can.\n",
        "Once you are happy you can test your model on the test set.\n"
      ]
    },
    {
      "cell_type": "markdown",
      "metadata": {
        "pycharm": {}
      },
      "source": [
        "There are multiple **loss functions** available, but for classification we almost always use [cross entropy](https://en.wikipedia.org/wiki/Cross_entropy)."
      ]
    },
    {
      "cell_type": "code",
      "execution_count": null,
      "metadata": {
        "pycharm": {}
      },
      "outputs": [],
      "source": [
        "loss_function \u003d tf.keras.backend.categorical_crossentropy"
      ]
    },
    {
      "cell_type": "markdown",
      "metadata": {
        "pycharm": {}
      },
      "source": [
        "There are also several optimizers (gradient descent algorithms) to choose from.\n",
        "Stochastic Gradient Descent (SGD) is the classical one, and it is still used frequently.\n",
        "There are however [cases where it doesn\u0027t perform so well](https://imgur.com/a/Hqolp) and another more advanced algorithm is better suited."
      ]
    },
    {
      "cell_type": "code",
      "execution_count": null,
      "metadata": {
        "pycharm": {}
      },
      "outputs": [],
      "source": [
        "optimizer \u003d keras.optimizers.SGD(lr\u003d0.01, momentum\u003d0.0, decay\u003d0.0)"
      ]
    },
    {
      "cell_type": "code",
      "execution_count": null,
      "metadata": {
        "scrolled": false,
        "pycharm": {}
      },
      "outputs": [],
      "source": [
        "## Define the model we want to train\n",
        "\n",
        "model \u003d keras.models.Sequential([\n",
        "    # Dense layers only work with feature vectors, so we need to flatten first\n",
        "    keras.layers.Flatten(input_shape\u003d(28, 28)),\n",
        "\n",
        "    keras.layers.Dense(256),\n",
        "    keras.layers.Activation(\u0027relu\u0027),\n",
        "    \n",
        "    # The output layer must have the same number of units as there are classes\n",
        "    keras.layers.Dense(10, activation\u003dtf.nn.softmax)\n",
        "])\n",
        "model.summary()\n",
        "\n",
        "print(\u0027\\nBegin Training\u0027)\n",
        "num_epochs \u003d 10\n",
        "exp_name \u003d \u0027default_network\u0027\n",
        "experiment \u003d train(model, loss_function, optimizer, num_epochs, exp_name\u003dexp_name)\n",
        "experiments.append(experiment)\n",
        "del model"
      ]
    },
    {
      "cell_type": "code",
      "execution_count": null,
      "metadata": {
        "pycharm": {}
      },
      "outputs": [],
      "source": [
        "visualize_info(experiment)\n",
        "visualize_experiments(experiments)\n",
        "\n",
        "for experiment in experiments:\n",
        "    name, _, info \u003d experiment\n",
        "    print(name, np.max(info.history[\u0027val_acc\u0027]))"
      ]
    },
    {
      "cell_type": "code",
      "execution_count": 1,
      "metadata": {
        "pycharm": {
          "is_executing": false
        }
      },
      "outputs": [
        {
          "traceback": [
            "\u001b[0;31m---------------------------------------------------------------------------\u001b[0m",
            "\u001b[0;31mNameError\u001b[0m                                 Traceback (most recent call last)",
            "\u001b[0;32m\u003cipython-input-1-2a66595b139c\u003e\u001b[0m in \u001b[0;36m\u003cmodule\u003e\u001b[0;34m()\u001b[0m\n\u001b[1;32m      1\u001b[0m \u001b[0;31m# If applicable - clean up your experiments list a bit\u001b[0m\u001b[0;34m\u001b[0m\u001b[0;34m\u001b[0m\u001b[0m\n\u001b[0;32m----\u003e 2\u001b[0;31m \u001b[0mexperiments\u001b[0m \u001b[0;34m\u003d\u001b[0m \u001b[0mkeep_best\u001b[0m\u001b[0;34m(\u001b[0m\u001b[0mexperiments\u001b[0m\u001b[0;34m,\u001b[0m \u001b[0;36m3\u001b[0m\u001b[0;34m)\u001b[0m\u001b[0;34m\u001b[0m\u001b[0m\n\u001b[0m",
            "\u001b[0;31mNameError\u001b[0m: name \u0027keep_best\u0027 is not defined"
          ],
          "ename": "NameError",
          "evalue": "name \u0027keep_best\u0027 is not defined",
          "output_type": "error"
        }
      ],
      "source": [
        "# If applicable - clean up your experiments list a bit\n",
        "experiments \u003d keep_best(experiments, 3)"
      ]
    },
    {
      "cell_type": "markdown",
      "metadata": {
        "pycharm": {}
      },
      "source": [
        "# Testing\n",
        "Ideally you would only ever use test data once - when you are completely 100% done and satisfied with your model.\n",
        "This is rarely the practice in real life, but you should keep some discipline, and not use the test too often"
      ]
    },
    {
      "cell_type": "code",
      "execution_count": null,
      "metadata": {
        "pycharm": {}
      },
      "outputs": [],
      "source": [
        "are_you_happy_about_your_model \u003d False\n",
        "\n",
        "if are_you_happy_about_your_model:\n",
        "    best_experimnet \u003d keep_best(experiments, 1)[0]\n",
        "    print(\u0027Best model test loss and accuracy:\u0027)\n",
        "    print(best_experimnet[1].evaluate(x_test, y_test, batch_size\u003d128))\n",
        "    print()\n",
        "\n",
        "    visualize_info(best_experimnet)\n",
        "else:\n",
        "    print(\u0027Come back when you are happy.\u0027)"
      ]
    }
  ],
  "metadata": {
    "kernelspec": {
      "display_name": "Python 3",
      "language": "python",
      "name": "python3"
    },
    "language_info": {
      "codemirror_mode": {
        "name": "ipython",
        "version": 3
      },
      "file_extension": ".py",
      "mimetype": "text/x-python",
      "name": "python",
      "nbconvert_exporter": "python",
      "pygments_lexer": "ipython3",
      "version": "3.6.5"
    }
  },
  "nbformat": 4,
  "nbformat_minor": 2
}