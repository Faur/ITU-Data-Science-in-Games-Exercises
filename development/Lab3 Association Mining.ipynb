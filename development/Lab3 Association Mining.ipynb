{
 "cells": [
  {
   "cell_type": "markdown",
   "metadata": {},
   "source": [
    "# Association Mining!\n",
    "\n",
    "The problem - How do you determine which items belong together from data? \n",
    "For example imagine you are running a store and you want to know what items are frequently bought together - how would you go about this in an automated and systematic way?\n",
    "\n",
    "Apriori algorithm\n",
    "* pro: Easy to implement, easy to parallelize\n",
    "* con: Computationally expensive\n",
    "\n",
    "\n",
    "Market basket analysis\n",
    " * Better shop layout\n",
    " * Adverse effects of combining medicine\n",
    "\n",
    "Association rules are generally in the `if ... then ...` format. E.g:\n",
    "\n",
    "> If a customer buys milk and butter then they buy bread.\n",
    "\n",
    "In formal logic this is called an implication, and is generally denoted with an arrow, so the statement above could be written:\n",
    "\n",
    "> `{milk, butter} -> bread`\n",
    "\n",
    "\n",
    "\n",
    "\n",
    "\n",
    "Rule constraints \n",
    "* Support - of an item set X is the proportion of observations in the dataset where X occurs\n",
    "    * $supp(X) = \\frac{\\text{# observations with X}}{\\text{Total # transactions}}$\n",
    "* Confidence - How strong is the rule? I.e. the confidence for `X->Y` is the likelihood that `Y` is purchased, if `X` is purchased. \n",
    "This is the same as the conditional probability.\n",
    "It is defined as follows:\n",
    "    * $conf(X \\rightarrow Y) = \\frac{supp(X \\cup Y)}{supp(X)}$\n",
    "* Lift\n",
    "    * Drawback with confidence: if the support for `Y` is very high, then the confidence of `X->Y` might not be very informative.\n",
    "    * $lift(X\\rightarrow Y) = \\frac{supp(X \\cup Y)}{supp(X) supp(Y)}$\n",
    "* Conviction\n",
    "    * $conv(X \\rightarrow Y) = \\frac{1-supp(Y)}{1-conf(X->Y)}$\n",
    "    * ??? How much better than chance is this association?\n",
    "\n",
    "\n",
    "Example work\n",
    "1. Load data\n",
    "1. Create itemsets of one-hot DataFrame\n",
    "1. Determine minimum support (and confidence) threshold\n",
    "    1. Some data exploration \n",
    "1. Find all items that satisfies this support threshold\n",
    "1. Find all combinations of the items that satisfy the support threshold. You can use arbitrarily large sets.\n",
    "\n"
   ]
  },
  {
   "cell_type": "code",
   "execution_count": 1,
   "metadata": {},
   "outputs": [],
   "source": [
    "# Makes matplotlib plots work better with Jupyter\n",
    "%matplotlib inline\n",
    "\n",
    "# Import the necessary libraries. \n",
    "import os\n",
    "\n",
    "import numpy as np\n",
    "import pandas as pd\n",
    "import matplotlib.pyplot as plt\n",
    "import seaborn as sns\n",
    "import json\n",
    "from pprint import pprint\n",
    "from itertools import combinations\n"
   ]
  },
  {
   "cell_type": "markdown",
   "metadata": {},
   "source": [
    "# The Data\n",
    "\n",
    "For this exercise we will be working with classical shopping-cart data.\n",
    "The cell below loads the data and prints the first example."
   ]
  },
  {
   "cell_type": "code",
   "execution_count": 4,
   "metadata": {
    "scrolled": true
   },
   "outputs": [
    {
     "name": "stdout",
     "output_type": "stream",
     "text": [
      "Number of observations 1499\n",
      "{'date': '1/1/2000',\n",
      " 'items': ['yogurt',\n",
      "           'pork',\n",
      "           'sandwich bags',\n",
      "           'lunch meat',\n",
      "           'all- purpose',\n",
      "           'flour',\n",
      "           'soda',\n",
      "           'butter',\n",
      "           'vegetables',\n",
      "           'beef',\n",
      "           'aluminum foil',\n",
      "           'all- purpose',\n",
      "           'dinner rolls',\n",
      "           'shampoo',\n",
      "           'all- purpose',\n",
      "           'mixes',\n",
      "           'soap',\n",
      "           'laundry detergent',\n",
      "           'ice cream',\n",
      "           'dinner rolls',\n",
      "           '']}\n"
     ]
    },
    {
     "ename": "AttributeError",
     "evalue": "'list' object has no attribute 'describe'",
     "output_type": "error",
     "traceback": [
      "\u001b[0;31m---------------------------------------------------------------------------\u001b[0m",
      "\u001b[0;31mAttributeError\u001b[0m                            Traceback (most recent call last)",
      "\u001b[0;32m<ipython-input-4-7700e93fa2ca>\u001b[0m in \u001b[0;36m<module>\u001b[0;34m\u001b[0m\n\u001b[1;32m      9\u001b[0m \u001b[0mprint\u001b[0m\u001b[0;34m(\u001b[0m\u001b[0;34m'Number of observations'\u001b[0m\u001b[0;34m,\u001b[0m \u001b[0mlen\u001b[0m\u001b[0;34m(\u001b[0m\u001b[0mdata_raw\u001b[0m\u001b[0;34m)\u001b[0m\u001b[0;34m)\u001b[0m\u001b[0;34m\u001b[0m\u001b[0m\n\u001b[1;32m     10\u001b[0m \u001b[0mpprint\u001b[0m\u001b[0;34m(\u001b[0m\u001b[0mdata_raw\u001b[0m\u001b[0;34m[\u001b[0m\u001b[0;36m0\u001b[0m\u001b[0;34m]\u001b[0m\u001b[0;34m)\u001b[0m\u001b[0;34m\u001b[0m\u001b[0m\n\u001b[0;32m---> 11\u001b[0;31m \u001b[0mdata_raw\u001b[0m\u001b[0;34m.\u001b[0m\u001b[0mdescribe\u001b[0m\u001b[0;34m(\u001b[0m\u001b[0;34m)\u001b[0m\u001b[0;34m\u001b[0m\u001b[0m\n\u001b[0m",
      "\u001b[0;31mAttributeError\u001b[0m: 'list' object has no attribute 'describe'"
     ]
    }
   ],
   "source": [
    "# Check that data and data path is present\n",
    "data_folder = \"../data/\"\n",
    "data_filename = \"shopping.json\"\n",
    "assert os.path.isdir(data_folder) and os.path.exists(data_folder + data_filename), 'Data not found. Make sure to have the most recent version!'\n",
    "\n",
    "with open(data_folder + data_filename) as f:\n",
    "    data_raw = json.load(f)\n",
    "\n",
    "print('Number of observations', len(data_raw))\n",
    "pprint(data_raw[0])"
   ]
  },
  {
   "cell_type": "markdown",
   "metadata": {},
   "source": [
    "## Task 1: Transforming the Data\n",
    "> Estimated task time: 10 min\n",
    "\n",
    "The first thing we want to do is transform the data into a one-hot matrix.\n",
    "A one-hot matrix is a matrix where each column represent an item, e.g. `ice cream`, and each row represents a transaction.\n",
    "`0` indicates the item wasn't bought, and `1` indicates that it was.\n",
    "\n",
    "Your task is to\n",
    "1. Create a list of all the feature names, but remove the uninformative ones, i.e. the ones in `bad_feature_names`\n",
    "1. Create a one-hot numpy array of the data, and name it `data`\n",
    " * Note: If an item occurs twice in a transaction we still just want to have a `1` in the one-hot matrix.\n",
    " * Hint: The array should have shape `(1499, 37)`\n",
    " "
   ]
  },
  {
   "cell_type": "code",
   "execution_count": 5,
   "metadata": {},
   "outputs": [
    {
     "name": "stdout",
     "output_type": "stream",
     "text": [
      "feature_names\n",
      "['aluminum foil', 'bagels', 'beef', 'butter', 'cereals', 'cheeses', 'coffee/tea', 'dinner rolls', 'dishwashing liquid/detergent', 'eggs', 'flour', 'fruits', 'hand soap', 'ice cream', 'individual meals', 'juice', 'ketchup', 'laundry detergent', 'lunch meat', 'milk', 'mixes', 'paper towels', 'pasta', 'pork', 'poultry', 'sandwich bags', 'sandwich loaves', 'shampoo', 'soap', 'soda', 'spaghetti sauce', 'sugar', 'toilet paper', 'tortillas', 'vegetables', 'waffles', 'yogurt']\n",
      "\n",
      "The data looks like this now:\n",
      "[[1. 0. 1. ... 1. 0. 1.]\n",
      " [1. 0. 0. ... 1. 1. 1.]\n",
      " [0. 1. 0. ... 1. 0. 0.]\n",
      " ...\n",
      " [0. 1. 1. ... 1. 0. 1.]\n",
      " [0. 0. 1. ... 1. 1. 1.]\n",
      " [0. 0. 0. ... 1. 0. 0.]]\n"
     ]
    },
    {
     "ename": "AttributeError",
     "evalue": "'numpy.ndarray' object has no attribute 'describe'",
     "output_type": "error",
     "traceback": [
      "\u001b[0;31m---------------------------------------------------------------------------\u001b[0m",
      "\u001b[0;31mAttributeError\u001b[0m                            Traceback (most recent call last)",
      "\u001b[0;32m<ipython-input-5-375588d6e8e4>\u001b[0m in \u001b[0;36m<module>\u001b[0;34m\u001b[0m\n\u001b[1;32m     30\u001b[0m \u001b[0mprint\u001b[0m\u001b[0;34m(\u001b[0m\u001b[0;34m'The data looks like this now:'\u001b[0m\u001b[0;34m)\u001b[0m\u001b[0;34m\u001b[0m\u001b[0m\n\u001b[1;32m     31\u001b[0m \u001b[0mprint\u001b[0m\u001b[0;34m(\u001b[0m\u001b[0mdata\u001b[0m\u001b[0;34m)\u001b[0m\u001b[0;34m\u001b[0m\u001b[0m\n\u001b[0;32m---> 32\u001b[0;31m \u001b[0mdata\u001b[0m\u001b[0;34m.\u001b[0m\u001b[0mdescribe\u001b[0m\u001b[0;34m(\u001b[0m\u001b[0;34m)\u001b[0m\u001b[0;34m\u001b[0m\u001b[0m\n\u001b[0m",
      "\u001b[0;31mAttributeError\u001b[0m: 'numpy.ndarray' object has no attribute 'describe'"
     ]
    }
   ],
   "source": [
    "num_obs = len(data_raw)\n",
    "bad_feature_names = ['', 'all- purpose']\n",
    "\n",
    "data = None ## YOUR CODE HERE \n",
    "\n",
    "# Make a list of all the items\n",
    "all_items = []\n",
    "for i in range(num_obs):\n",
    "    all_items += data_raw[i]['items']\n",
    "    \n",
    "# Find the unique item names\n",
    "features_names = list(np.unique(all_items))\n",
    "\n",
    "# Remove bad item names\n",
    "for bad_feature in bad_feature_names:\n",
    "    features_names.remove(bad_feature)\n",
    "\n",
    "print('feature_names')\n",
    "print(features_names)\n",
    "print()\n",
    "# Create a one-hot matrix\n",
    "num_features = len(features_names)\n",
    "data = np.zeros([num_obs, num_features])\n",
    "for i in range(num_obs):\n",
    "    for item in data_raw[i]['items']:\n",
    "        if item not in bad_feature_names:\n",
    "            j = features_names.index(item)\n",
    "            data[i,j] = 1\n",
    "\n",
    "print('The data looks like this now:')\n"
   ]
  },
  {
   "cell_type": "markdown",
   "metadata": {},
   "source": [
    "## Task 2: Compute the Support\n",
    "\n",
    "> Estimated task time: 10 min\n",
    "\n",
    "Now we want to compute the support of each of the individual items, and visualize it.\n",
    "\n",
    "Your job:\n",
    "1. Finish the `compute_support` function - which computes the support for one combination of items. \n",
    " * E.g. `(0,1,2)` would be `{'aluminum foil', 'bagels', 'beef',}`, which occurs 7.20% of the time.\n",
    "1. Compute the support of each of the items individually - i.e. how frequent are each item.\n",
    "1. Visualize the support as a histogram.\n",
    "    * Hint: `plt.xticks` can be used to rotate the labels on the x-axis for a prettier plot."
   ]
  },
  {
   "cell_type": "code",
   "execution_count": 6,
   "metadata": {},
   "outputs": [
    {
     "name": "stdout",
     "output_type": "stream",
     "text": [
      "Support for (0,1,2): 0.07204803202134756\n"
     ]
    },
    {
     "data": {
      "image/png": "[encoded data removed]",
      "text/plain": [
       "<Figure size 720x288 with 1 Axes>"
      ]
     },
     "metadata": {
      "needs_background": "light"
     },
     "output_type": "display_data"
    }
   ],
   "source": [
    "def compute_support(X, combi):\n",
    "    \"\"\" Given a one-hot array X, and a tuple, combi, indicating the columns of interest\n",
    "        compute_support returns the support of the elements in combi.\n",
    "    \"\"\"\n",
    "    \n",
    "    ## YOUR CODE HERE\n",
    "    rule = X[:, combi].all(axis=1)\n",
    "    support = rule.sum() / X.shape[0]\n",
    "    return support\n",
    "\n",
    "print('Support for (0,1,2):', compute_support(data, (0,1,2)))\n",
    "\n",
    "support = []\n",
    "for i in range(data.shape[1]):\n",
    "    support.append(compute_support(data, (i,)))\n",
    "\n",
    "plt.figure(figsize=(10,4))\n",
    "g = sns.barplot(x=features_names, y=support, color='b')\n",
    "plt.xticks(rotation=90)\n",
    "plt.show()"
   ]
  },
  {
   "cell_type": "markdown",
   "metadata": {},
   "source": [
    "## Task 3: Creating Combinations\n",
    "> Estimated task time: 10 min\n",
    "\n",
    "Here we want to implement and test a helper function `candidate_generation`.\n",
    "The function takes a `NxM` numpy array of item sets.\n",
    "`N` indicates the number of item sets, and `M` indicates the length.\n",
    "The function should then produce a [generator](https://medium.freecodecamp.org/how-and-why-you-should-use-python-generators-f6fb56650888) that generates all relevant new item set combinations of length `M+1`.\n",
    "\n",
    "Your task:\n",
    "1. Fill out the function `candidate_generation`. The output must be as a tuple.\n",
    " * Note: Watch out you don't create duplicates! We don't care about the order, so `(0, 1)` is the same as `(1, 0)`.\n",
    " * Hint: It is a good idea to start by finding all the unique values in old_combinations.\n",
    "1. Run the test in the next cell, and make sure that you get the correct result."
   ]
  },
  {
   "cell_type": "code",
   "execution_count": 8,
   "metadata": {
    "scrolled": true
   },
   "outputs": [],
   "source": [
    "def candidate_generation(old_combinations):\n",
    "    \"\"\" Input: An NxM array of item sets, \n",
    "            N: number of combinations\n",
    "            M: length of each item set\n",
    "        Output: A generator that produces all possible combinations \n",
    "    \"\"\"\n",
    "    \n",
    "    ## YOUR CODE HERE \n",
    "    items_types_in_previous_step = np.unique(old_combinations.flatten())\n",
    "    \n",
    "    for old_combination in old_combinations:\n",
    "        max_combination = max(old_combination)\n",
    "        for item in items_types_in_previous_step:\n",
    "            if item > max_combination:\n",
    "                res = tuple(old_combination) + (item,)\n",
    "                yield res"
   ]
  },
  {
   "cell_type": "markdown",
   "metadata": {},
   "source": [
    "The cell below serves as a test of `candidate_generation`. \n",
    "If your function is written correctly the output shold be as follows:\n",
    "\n",
    "    [[0 1 2 3]]\n",
    "\n",
    "    [[0 0 0 1 1 2]\n",
    "     [1 2 3 2 3 3]]\n",
    "\n",
    "    [[0 0 0 1]\n",
    "     [1 1 2 2]\n",
    "     [2 3 3 3]]\n",
    "\n",
    "    [[0]\n",
    "     [1]\n",
    "     [2]\n",
    "     [3]]\n"
   ]
  },
  {
   "cell_type": "code",
   "execution_count": 9,
   "metadata": {},
   "outputs": [
    {
     "name": "stdout",
     "output_type": "stream",
     "text": [
      "[[0 1 2 3]]\n",
      "\n",
      "[[0 0 0 1 1 2]\n",
      " [1 2 3 2 3 3]]\n",
      "\n",
      "[[0 0 0 1]\n",
      " [1 1 2 2]\n",
      " [2 3 3 3]]\n",
      "\n",
      "[[0]\n",
      " [1]\n",
      " [2]\n",
      " [3]]\n"
     ]
    }
   ],
   "source": [
    "# Test of candidate_generation\n",
    "comb = np.array([[0],[1],[2],[3]])\n",
    "print(comb.T)\n",
    "print()\n",
    "\n",
    "new_comb = []\n",
    "for c in candidate_generation(comb):\n",
    "    new_comb.append(c)\n",
    "comb = np.array(new_comb)\n",
    "print(comb.T)\n",
    "print()\n",
    "\n",
    "new_comb = []\n",
    "for c in candidate_generation(comb):\n",
    "    new_comb.append(c)\n",
    "comb = np.array(new_comb)\n",
    "print(comb.T)\n",
    "print()\n",
    "\n",
    "new_comb = []\n",
    "for c in candidate_generation(comb):\n",
    "    new_comb.append(c)\n",
    "comb = np.array(new_comb)\n",
    "print(comb.T)"
   ]
  },
  {
   "cell_type": "markdown",
   "metadata": {},
   "source": [
    "## Task 4: Finding the Right Sets \n",
    "> Estimated task time: 25 min\n",
    "\n",
    "In this task we will find all the sets that have sufficient support.\n",
    "\n",
    "\n",
    "Your task:\n",
    "1. Finish the code below using what you have already done in the previous tasks. Each iteration of the loop should:\n",
    " * Generate all relevant combinations.\n",
    " * For each combination compute the support\n",
    " * If the support is larger than `min_support` save the item set and the support in `itemset_dict` and `support_dict`.\n",
    "1. Convert your results, `itemset_dict` and `support_dict`, into a `pandas` dataframe.\n",
    " * Use `reset_index` to fix the indexes (remove the unwanted 'history')\n",
    "1. Find an appropriate minimum support (subjective). Run the code several times, and see how changing this value changes the outcome.\n",
    " * You may choose a maximum length as well if you want to.\n",
    "1. Print the results using the actual feature names - how does it look? Any surprises?"
   ]
  },
  {
   "cell_type": "code",
   "execution_count": null,
   "metadata": {},
   "outputs": [],
   "source": [
    "min_support = 0.3\n",
    "\n",
    "# Compute / re-compute support, and set it up as a dictionary \n",
    "support = []\n",
    "for i in range(data.shape[1]):\n",
    "    support.append(compute_support(data, (i,)))\n",
    "support = np.asarray(support)\n",
    "support_dict = {1: support[support >= min_support]}\n",
    "\n",
    "# Setup all the attomic items in a dict.\n",
    "ary_col_idx = np.arange(data.shape[1])\n",
    "itemset_dict = {1: ary_col_idx[support >= min_support].reshape(-1, 1)}\n",
    "rows_count = float(data.shape[0])\n",
    "\n",
    "itemset_len = 1\n",
    "while itemset_len:\n",
    "    pass\n",
    "    \n",
    "    ## YOUR CODE HERE \n",
    "    next_itemset_len = itemset_len + 1\n",
    "    combin = candidate_generation(itemset_dict[itemset_len])\n",
    "    frequent_items = []\n",
    "    frequent_items_support = []\n",
    "\n",
    "    for c in combin:\n",
    "        support = compute_support(data, c)\n",
    "        \n",
    "        if support >= min_support:\n",
    "            frequent_items.append(c)\n",
    "            frequent_items_support.append(support)\n",
    "\n",
    "    if frequent_items:\n",
    "        itemset_dict[next_itemset_len] = np.array(frequent_items)\n",
    "        support_dict[next_itemset_len] = np.array(frequent_items_support)\n",
    "        itemset_len = next_itemset_len\n",
    "    else:\n",
    "        itemset_len = 0\n",
    "\n",
    "\n",
    "all_res = []\n",
    "for k in sorted(itemset_dict):\n",
    "    support = pd.Series(support_dict[k])\n",
    "    itemsets = pd.Series([frozenset(i) for i in itemset_dict[k]])\n",
    "\n",
    "    res = pd.concat((support, itemsets), axis=1)\n",
    "    all_res.append(res)\n",
    "\n",
    "res_df = pd.concat(all_res)\n",
    "res_df.columns = ['support', 'itemsets']\n",
    "res_df = res_df.reset_index(drop=True)\n",
    "\n",
    "\n",
    "# Print results in a human readable manner\n",
    "for i in range(37, len(res_df)):\n",
    "    print([features_names[i] for i in res_df.itemsets[i]], 'has support', res_df.support[i])\n"
   ]
  },
  {
   "cell_type": "markdown",
   "metadata": {},
   "source": [
    "## Task \n",
    "> Estimated task time:  min\n",
    "\n",
    "Your tasks\n",
    "* Choose whether you want to use support, confidence, lift, or conviction as your decision metric, and choose a minimum threshold.\n"
   ]
  },
  {
   "cell_type": "code",
   "execution_count": null,
   "metadata": {},
   "outputs": [],
   "source": [
    "columns_ordered = ['antecedents', 'consequents',\n",
    "                   'antecedent support', 'consequent support',\n",
    "                   'support',\n",
    "                   'confidence', 'lift', 'leverage', 'conviction']\n",
    "\n",
    "keys = res_df['itemsets'].values\n",
    "values = res_df['support'].values\n",
    "\n",
    "min_threshold = 0.1\n",
    "\n",
    "frozenset_vect = np.vectorize(lambda x: frozenset(x))\n",
    "frequent_items_dict = dict(zip(frozenset_vect(keys), values))\n",
    "\n",
    "# prepare buckets to collect frequent rules\n",
    "rule_antecedents = []\n",
    "rule_consequents = []\n",
    "rule_supports = []\n",
    "\n",
    "\n",
    "# iterate over all frequent itemsets\n",
    "for k in frequent_items_dict.keys():\n",
    "    sAC = frequent_items_dict[k]\n",
    "    # to find all possible combinations\n",
    "    for idx in range(len(k)-1, 0, -1):\n",
    "        # of antecedent and consequent\n",
    "        for c in combinations(k, r=idx):\n",
    "            antecedent = frozenset(c)\n",
    "            consequent = k.difference(antecedent)\n",
    "\n",
    "            sA = frequent_items_dict[antecedent]\n",
    "            sC = frequent_items_dict[consequent]\n",
    "\n",
    "#             score = metric_dict[metric](sAC, sA, sC)\n",
    "            confidence = None\n",
    "            lift = None\n",
    "            conviction = None\n",
    "            score = 1\n",
    "            if score >= min_threshold:\n",
    "                rule_antecedents.append(antecedent)\n",
    "                rule_consequents.append(consequent)\n",
    "                rule_supports.append([sAC, sA, sC])\n",
    "\n",
    "# generate metrics\n",
    "rule_supports = np.array(rule_supports).T.astype(float)\n",
    "df_res = pd.DataFrame(\n",
    "    data=list(zip(rule_antecedents, rule_consequents)),\n",
    "    columns=[\"antecedents\", \"consequents\"])\n",
    "\n",
    "sAC = rule_supports[0]\n",
    "sA = rule_supports[1]\n",
    "sC = rule_supports[2]\n",
    "\n",
    "\n",
    "# TODO\n",
    "df_res['total_support'] = 0\n",
    "df_res['antecedent_support'] = 0\n",
    "df_res['consequent_support'] = 0\n",
    "df_res['confidence'] = 0\n",
    "df_res['lift'] = 0\n",
    "df_res['conviction'] = 0\n",
    "\n"
   ]
  },
  {
   "cell_type": "code",
   "execution_count": null,
   "metadata": {},
   "outputs": [],
   "source": [
    "df_res"
   ]
  },
  {
   "cell_type": "markdown",
   "metadata": {},
   "source": [
    "## Task \n",
    "> Estimated task time:  min\n"
   ]
  }
 ],
 "metadata": {
  "kernelspec": {
   "display_name": "Python 3",
   "language": "python",
   "name": "python3"
  },
  "language_info": {
   "codemirror_mode": {
    "name": "ipython",
    "version": 3
   },
   "file_extension": ".py",
   "mimetype": "text/x-python",
   "name": "python",
   "nbconvert_exporter": "python",
   "pygments_lexer": "ipython3",
   "version": "3.6.5"
  }
 },
 "nbformat": 4,
 "nbformat_minor": 2
}
