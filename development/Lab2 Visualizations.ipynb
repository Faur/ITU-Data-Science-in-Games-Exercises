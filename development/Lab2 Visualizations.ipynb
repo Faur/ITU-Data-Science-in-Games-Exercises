{
 "cells": [
  {
   "cell_type": "markdown",
   "metadata": {},
   "source": [
    "# Lab2 Visualizations\n",
    "\n",
    "Second round: last time had some visualizations to check the result of your cleaning. This time, you are gonna implement some yourself.\n",
    "\n",
    "The objectives of this lab is for you to get:\n",
    "* data normalization (lab 1 catch-up)\n",
    "* data aggregation\n",
    "* pandas/seaborn/pyplot plotting\n",
    "* create custom graphs (styling, additional info, subplots)\n",
    "\n",
    "## Reminders\n",
    "* [GitHub repo](https://github.com/Faur/ITU-Data-Science-in-Games-Exercises)\n",
    "* **Shut down notebooks** when you are done. Otherwise the server will run out of resources, and we will be forced to restart the them.\n",
    "* Server storage is volatile! I.e. you must **save everything locally** that you don't want to loose."
   ]
  },
  {
   "cell_type": "code",
   "execution_count": null,
   "metadata": {},
   "outputs": [],
   "source": [
    "# ! git pull"
   ]
  },
  {
   "cell_type": "code",
   "execution_count": null,
   "metadata": {},
   "outputs": [],
   "source": [
    "# Makes matplotlib plots work better with Jupyter\n",
    "%matplotlib inline\n",
    "\n",
    "# Import the necessary libraries. \n",
    "import os\n",
    "\n",
    "import numpy as np\n",
    "import pandas as pd\n",
    "import matplotlib.pyplot as plt\n",
    "import seaborn as sns"
   ]
  },
  {
   "cell_type": "code",
   "execution_count": null,
   "metadata": {},
   "outputs": [],
   "source": [
    "# Check that data and data path is present\n",
    "# TODO fix path\n",
    "basedir = \"../\"\n",
    "file = \"fifa.csv\"\n",
    "assert os.path.isdir(f\"{basedir}data\") and os.path.exists(f\"{basedir}data/{file}\"), 'Data not found. Make sure to have the most recent version!'\n",
    "\n",
    "data = pd.read_csv(f'{basedir}/data/fifa.csv', sep=\",\")\n",
    "\n",
    "# set default graph style\n",
    "sns.set(rc={'figure.figsize':(20,8)})"
   ]
  },
  {
   "cell_type": "markdown",
   "metadata": {},
   "source": [
    "## Given code 1: Color palettes\n",
    "\n",
    "Objective: get familiar with color palette types"
   ]
  },
  {
   "cell_type": "code",
   "execution_count": null,
   "metadata": {},
   "outputs": [],
   "source": [
    "categorical_examples = ['deep', 'colorblind', 'muted']\n",
    "sequential_examples = ['gray', 'Blues', 'BuGn_r', 'GnBu_d']\n",
    "diverging_examples = ['coolwarm', 'BrBG', 'RdBu_r']\n",
    "\n",
    "features = ['Age', 'Overall', 'Potential', 'Body Type']\n",
    "\n",
    "subset = data[features][(data['Body Type']=='Lean') | (data['Body Type']=='Normal') | (data['Body Type']=='Stocky')]\n",
    "\n",
    "with sns.axes_style('white'):\n",
    "    sns.pairplot(subset, hue='Body Type', palette=diverging_examples[0])\n",
    "plt.show()\n",
    "    "
   ]
  },
  {
   "cell_type": "markdown",
   "metadata": {},
   "source": [
    "## Task 1: Count and Histogram\n",
    "\n",
    "> Estimated task time: 20 minutes.\n",
    "\n",
    "1) Count the number of occurencies of each nationality\n",
    "\n",
    "2) Plot an histogram of the results\n",
    "\n",
    "3) Plot the histogram filtering out entries with a count \"too small\"\n",
    "\n",
    "4) Plot the histogram showing the top X entries (choose X accordingly)"
   ]
  },
  {
   "cell_type": "code",
   "execution_count": null,
   "metadata": {},
   "outputs": [],
   "source": [
    "## YOUR CODE HERE \n",
    "# Pro tip: after creating a graph call plt.show() if the cell contains a single graph,\n",
    "# otherwise all will be rendered on top of each other\n",
    "\n",
    "# 1\n",
    "# Creates a DF with a Hierarchical index, the only accessible column  is ID\n",
    "# (for details about comple indexing see https://pandas.pydata.org/pandas-docs/stable/user_guide/advanced.html)\n",
    "gb = data.groupby('Nationality')\n",
    "natCount = pd.DataFrame({'count': gb.size()})\n",
    "\n",
    "# Flattens the index\n",
    "natCount = natCount.reset_index()\n",
    "\n",
    "# # 3\n",
    "# natCount = natCount \\\n",
    "#     .sort_values('count', ascending=False) \\\n",
    "#     .head(20)\n",
    "\n",
    "# # 4\n",
    "# natCount = natCount[natCount['count'] > 400]\n",
    "\n",
    "# 2\n",
    "# natCount.plot('Nationality', kind='bar', figsize=(20, 8))\n",
    "natCount.plot('Nationality', kind='bar', figsize=(20, 8))\n",
    "plt.show() \n",
    "\n",
    "\n",
    "sns.set(rc={'figure.figsize':(20,8)})\n",
    "sns.barplot(natCount['Nationality'].values, natCount['count'].values, color='firebrick')\n",
    "\n",
    "plt.show()\n",
    "\n",
    "\n",
    "plt.bar(natCount['Nationality'].values, natCount['count'].values, label='count')\n",
    "plt.legend()\n",
    "plt.show()\n",
    "\n",
    "# NB: seaborn can group and count the dataset automatically, but doesn't allow to manipulate the resulting dataset\n",
    "# sns.countplot(data.Nationality, color='red')\n",
    "# plt.show()"
   ]
  },
  {
   "cell_type": "markdown",
   "metadata": {},
   "source": [
    "**NB**: matplotlib is 10 years older than pandas, so it can't handle a `DataFrame` directly but needs raw values and series. It is also old in graphical style (at least in the default values).\n",
    "Is advisable to use pandas visualizations when possible, seaborn when dealing with high-level visualizations, and fall back to matplotlib only when needed (keeping in mind that seaborn can automatically set a modern look to matplotlib visualizations with `seaborn.set()`"
   ]
  },
  {
   "cell_type": "markdown",
   "metadata": {},
   "source": [
    "## Task 2: Multiple data series\n",
    "\n",
    "> Estimated task time: 10 minutes.\n",
    "\n",
    "1) Calculate Min/Max/Avg for given features features, grouped by Club\n",
    "\n",
    "2) Plot an an histogram with all three features\n",
    "\n",
    "3) Plot a boxplot of the results # NOTE: not sure at all that this is clear\n"
   ]
  },
  {
   "cell_type": "code",
   "execution_count": null,
   "metadata": {},
   "outputs": [],
   "source": [
    "features = ['GKDiving', 'GKHandling', 'GKKicking']"
   ]
  },
  {
   "cell_type": "code",
   "execution_count": null,
   "metadata": {},
   "outputs": [],
   "source": [
    "## YOUR CODE HERE\n",
    "\n",
    "#1\n",
    "aggregation_columns = ['min', 'max', 'mean']\n",
    "gb = data.groupby('Club')[features].agg(aggregation_columns)\n",
    "clubStat = gb.reset_index()\n",
    "\n",
    "#2\n",
    "gb \\\n",
    "    .head(10) \\\n",
    "    .plot(kind='bar', figsize=(20, 8))\n",
    "plt.show()\n",
    "\n",
    "#3\n",
    "gb.boxplot(figsize=(20, 8))\n",
    "plt.show()\n"
   ]
  },
  {
   "cell_type": "markdown",
   "metadata": {},
   "source": [
    "## Given code 2: Visualization sins\n",
    "\n",
    "Objective: realize visualizations disadvantages"
   ]
  },
  {
   "cell_type": "code",
   "execution_count": null,
   "metadata": {},
   "outputs": [],
   "source": [
    "# exotic plots\n",
    "sns.violinplot(data=gb)\n",
    "plt.show()\n",
    "\n",
    "# optimistic regression\n",
    "sns.residplot(subset['Age'], subset['Overall'], lowess=True, color='g')\n",
    "plt.show()\n",
    "\n",
    "# misleading palettes?\n",
    "\n",
    "# information clutterning?"
   ]
  },
  {
   "cell_type": "markdown",
   "metadata": {},
   "source": [
    "## Task 3: Subplots\n",
    "\n",
    "> Estimated task time: 10 minutes.\n",
    "\n",
    "1) Edit the given code to show the graphs in a grid\n",
    "\n",
    "**NB**: include biref description of KDE\n"
   ]
  },
  {
   "cell_type": "code",
   "execution_count": null,
   "metadata": {},
   "outputs": [],
   "source": [
    "# currency2float = lambda x: x.replace(r'€|[KM]', '', regex=True).astype(float) * \\\n",
    "#             x.str.extract(r'[\\d\\.]+([KM]+)', expand=False) \\\n",
    "#                 .fillna(1) \\\n",
    "#                 .replace(['K','M'], [10**3, 10**6]).astype(int)\n",
    "\n",
    "features = ['Crossing', 'Finishing']\n",
    "\n",
    "value = data[features]\n",
    "\n",
    "f, axs = plt.subplots(1, 2)\n",
    "\n",
    "plt.ticklabel_format(style='plain', axis='x')\n",
    "for feature in features:\n",
    "    sns.kdeplot(value[feature].dropna(), shade=True, ax=axs[0])\n",
    "# plt.show()\n",
    "\n",
    "for feature in features:\n",
    "    sns.distplot(value[feature].dropna(), ax=axs[1])\n",
    "plt.show()"
   ]
  },
  {
   "cell_type": "markdown",
   "metadata": {},
   "source": [
    "# Given code 3: Plot functions\n",
    "Objective: take a look at how to plot and analyze functions (will be useful for NN)"
   ]
  },
  {
   "cell_type": "code",
   "execution_count": null,
   "metadata": {},
   "outputs": [],
   "source": [
    "jointplots_kinds= ['scatter', 'kde', 'hex', 'reg']\n",
    "\"\"\"\n",
    "scatter(default): scatterplot with marginal histograms\n",
    "kde:  kernel density estimate\n",
    "hex:  joint histogram\n",
    "reg:  regression and kernel density estimates\n",
    "\"\"\"\n",
    "\n",
    "\n",
    "uniform_data = np.random.rand(10, 12)\n",
    "ax = sns.heatmap(uniform_data, square=True)\n",
    "plt.show()\n",
    "\n",
    "normal_data = np.random.randn(10, 12)\n",
    "ax = sns.heatmap(normal_data, center=0, square=True)\n",
    "\n",
    "plt.show()\n",
    "\n",
    "with sns.axes_style('white'):\n",
    "    for i, kind in enumerate(jointplots_kinds):\n",
    "        sns.jointplot('GKDiving', 'GKHandling', data, kind=kind)\n",
    "        \n"
   ]
  }
 ],
 "metadata": {
  "kernelspec": {
   "display_name": "Python 3",
   "language": "python",
   "name": "python3"
  },
  "language_info": {
   "codemirror_mode": {
    "name": "ipython",
    "version": 3
   },
   "file_extension": ".py",
   "mimetype": "text/x-python",
   "name": "python",
   "nbconvert_exporter": "python",
   "pygments_lexer": "ipython3",
   "version": "3.6.5"
  }
 },
 "nbformat": 4,
 "nbformat_minor": 2
}
