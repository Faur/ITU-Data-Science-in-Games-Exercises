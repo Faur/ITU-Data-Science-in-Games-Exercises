{
 "cells": [
  {
   "cell_type": "markdown",
   "metadata": {},
   "source": [
    "# Lab2 Visualizations\n",
    "\n",
    "Second round: last time had some visualizations to check the result of your cleaning. This time, you are gonna implement some yourself.\n",
    "\n",
    "The objectives of this lab is for you to get:\n",
    "* data normalization (lab 1 catch-up)\n",
    "* data aggregation\n",
    "* pandas/seaborn/pyplot plotting\n",
    "* create custom graphs (styling, additional info, subplots)\n",
    "\n",
    "## Reminders\n",
    "* [GitHub repo](https://github.com/Faur/ITU-Data-Science-in-Games-Exercises)\n",
    "* **Shut down notebooks** when you are done. Otherwise the server will run out of resources, and we will be forced to restart the them.\n",
    "* Server storage is volatile! I.e. you must **save everything locally** that you don't want to loose."
   ]
  },
  {
   "cell_type": "code",
   "execution_count": null,
   "metadata": {},
   "outputs": [],
   "source": [
    "# ! git pull"
   ]
  },
  {
   "cell_type": "code",
   "execution_count": null,
   "metadata": {},
   "outputs": [],
   "source": [
    "# Makes matplotlib plots work better with Jupyter\n",
    "%matplotlib inline\n",
    "\n",
    "# Import the necessary libraries. \n",
    "import os\n",
    "\n",
    "import numpy as np\n",
    "import pandas as pd\n",
    "import matplotlib.pyplot as plt\n",
    "import seaborn as sns"
   ]
  },
  {
   "cell_type": "markdown",
   "metadata": {},
   "source": [
    "## Take a look at the data"
   ]
  },
  {
   "cell_type": "code",
   "execution_count": null,
   "metadata": {
    "scrolled": true
   },
   "outputs": [],
   "source": [
    "# Check that data and data path is present\n",
    "basedir = \"./\"\n",
    "file = \"fifa.csv\"\n",
    "assert os.path.isdir(f\"{basedir}data\") and os.path.exists(f\"{basedir}data/{file}\"), 'Data not found. Make sure to have the most recent version!'\n",
    "\n",
    "data = pd.read_csv(f'{basedir}/data/fifa.csv', sep=\",\")\n",
    "data.describe()"
   ]
  },
  {
   "cell_type": "code",
   "execution_count": null,
   "metadata": {},
   "outputs": [],
   "source": [
    "data.head()"
   ]
  },
  {
   "cell_type": "markdown",
   "metadata": {},
   "source": [
    "# Style\n",
    "\n",
    "First, let us set a modern style for our graphs. Seaborn is almost a standard in scientific papers and data science, so we can sefely rely on its default style. If you have particular needs, or if you think your visualization needs to be improved, you can add entries to the `rc` parameter dictionary (keys in this [sheet](https://matplotlib.org/users/customizing.html#a-sample-matplotlibrc-file))"
   ]
  },
  {
   "cell_type": "code",
   "execution_count": null,
   "metadata": {},
   "outputs": [],
   "source": [
    "# set default graph style, just making plots a bit bigger\n",
    "sns.set(rc={'figure.figsize':(20,8)})"
   ]
  },
  {
   "cell_type": "markdown",
   "metadata": {},
   "source": [
    "## Task 1: Count and Histogram\n",
    "\n",
    "> Estimated task time: 20 minutes.\n",
    "\n",
    "Let's start with analyzing the differences between pyplot, seaborn and pandas (you mar recall from the last lab that the latters build  of the former). They have similar APIs, but the result may be sligtly different\n",
    "\n",
    "1. Count the number of occurencies of each nationality (look at `DataFrame.groupby` and `DataFrameGroupBy`)\n",
    "\n",
    "2. Plot an histogram of the results\n",
    "\n",
    "3. Plot the histogram filtering out entries with a count \"too small\"\n",
    "\n",
    "4. Plot the histogram showing the top X entries (choose X accordingly)\n",
    "\n",
    "**Pro tip**: after creating a graph call plt.show() if the cell contains multiple graphs, otherwise all will be rendered on top of each other"
   ]
  },
  {
   "cell_type": "code",
   "execution_count": null,
   "metadata": {},
   "outputs": [],
   "source": [
    "data['Nationality'].describe()"
   ]
  },
  {
   "cell_type": "code",
   "execution_count": null,
   "metadata": {},
   "outputs": [],
   "source": [
    "data['Nationality'].head()"
   ]
  },
  {
   "cell_type": "code",
   "execution_count": null,
   "metadata": {},
   "outputs": [],
   "source": [
    "## YOUR CODE HERE \n"
   ]
  },
  {
   "cell_type": "markdown",
   "metadata": {},
   "source": [
    "**NB**: matplotlib is 10 years older than pandas, so it can't handle a `DataFrame` directly but needs raw values and series. It is also old in graphical style (at least in the default values).\n",
    "Is advisable to use pandas visualizations when possible, seaborn when dealing with high-level visualizations, and fall back to matplotlib only when needed (keeping in mind that seaborn can automatically set a modern look to matplotlib visualizations with `seaborn.set()`)"
   ]
  },
  {
   "cell_type": "markdown",
   "metadata": {},
   "source": [
    "## Color palettes\n",
    "\n",
    "Not all data are categorical. Color is a powerful tool to represent an additional dimension in you visualizations, but can also be very misleading. Seaborn offers many palettes already built for specific situations:\n",
    "* Categorical: categorical data\n",
    "* Sequential: numerical or ordinal that can be normalized between [0..1]\n",
    "* Diverging: numerical or ordinal that can be normalized between [-1..1]\n",
    "\n",
    "Try to use different palettes in the following graph to see which are useful, which harmful, and why\n",
    "\n",
    "**NB**: if the color doesn't convey any information, the best thing to do is to use a single one (see default seaborn visualization in last task)"
   ]
  },
  {
   "cell_type": "code",
   "execution_count": null,
   "metadata": {},
   "outputs": [],
   "source": [
    "categorical_examples = ['deep', 'colorblind', 'muted']\n",
    "sequential_examples = ['gray', 'Blues', 'BuGn_r', 'GnBu_d']\n",
    "diverging_examples = ['coolwarm', 'BrBG', 'RdBu_r']\n",
    "\n",
    "features = ['Age', 'Overall', 'Potential', 'Body Type']\n",
    "\n",
    "subset = data[features][(data['Body Type']=='Lean') | (data['Body Type']=='Normal') | (data['Body Type']=='Stocky')]\n",
    "subset.describe()"
   ]
  },
  {
   "cell_type": "code",
   "execution_count": null,
   "metadata": {},
   "outputs": [],
   "source": [
    "subset.head()"
   ]
  },
  {
   "cell_type": "code",
   "execution_count": null,
   "metadata": {},
   "outputs": [],
   "source": [
    "with sns.axes_style('white'):\n",
    "    sns.pairplot(subset, hue='Body Type', palette=diverging_examples[0])\n",
    "plt.show()\n",
    "    "
   ]
  },
  {
   "cell_type": "markdown",
   "metadata": {},
   "source": [
    "## Task 2: Multiple data series\n",
    "\n",
    "> Estimated task time: 15 minutes.\n",
    "\n",
    "In many occasions is important to correlate data plotting them on the same visualization.\n",
    "\n",
    "1. Calculate Min/Max/Avg for given features, grouped by Club\n",
    "\n",
    "2. Plot an an histogram with all three features\n",
    "\n",
    "3. Plot a boxplot of the results\n",
    "\n",
    "This particular set of features is probably not the best to show togheter. Try to understand why and how this problem can be solved."
   ]
  },
  {
   "cell_type": "code",
   "execution_count": null,
   "metadata": {},
   "outputs": [],
   "source": [
    "features = ['Club', 'GKDiving', 'GKHandling', 'GKKicking']\n",
    "subset = data[features]\n",
    "subset.describe()"
   ]
  },
  {
   "cell_type": "code",
   "execution_count": null,
   "metadata": {},
   "outputs": [],
   "source": [
    "subset.head()"
   ]
  },
  {
   "cell_type": "code",
   "execution_count": null,
   "metadata": {
    "scrolled": true
   },
   "outputs": [],
   "source": [
    "## YOUR CODE HERE\n"
   ]
  },
  {
   "cell_type": "markdown",
   "metadata": {},
   "source": [
    "## Given code 2: Visualization sins\n",
    "\n",
    "As you have seen during the lectures, there are many ways to make a \"bad\" visualization. Here are some examples"
   ]
  },
  {
   "cell_type": "code",
   "execution_count": null,
   "metadata": {},
   "outputs": [],
   "source": [
    "# exotic plots: if your reader can't understand it, don't use it\n",
    "sns.violinplot(data=gb)\n",
    "plt.show()\n",
    "\n",
    "# optimistic regression: [regression is tricky](https://xkcd.com/1725/)\n",
    "\n",
    "sns.residplot(data['Overall'], data['Potential'], lowess=True, color='g')\n",
    "plt.show()"
   ]
  },
  {
   "cell_type": "markdown",
   "metadata": {},
   "source": [
    "## Task 3: Statistical analysis and Subplots\n",
    "\n",
    "> Estimated task time: 15 minutes.\n",
    "\n",
    "A common task is to analyze datasets statistically. The first step is to plot the distribution of a variable (how many times each value appears) and try to approximate the distribution curve. Seaborn offers automatic ways to visualize this without doing the intermidiate steps ourself:\n",
    "* Kernel Density Estimation plot (sns.kdeplot) It allows the use of different kernels types [automatic kernel parameter selection](https://en.wikipedia.org/wiki/Kernel_density_estimation#A_rule-of-thumb_bandwidth_estimator)\n",
    "* Flexible kernel estimation plot (sns.distplot). It has less control over the statistical analysis than KDE but it allows to combine multiple visualizations and other options such binning and so on (see docs for more info)\n",
    "\n",
    "For the test you should:\n",
    "1. Show a KDE and a distribution plot\n",
    "2. Edit the code to show the graphs in a 2x1 grid (last lab showed an example, it's not the only way)"
   ]
  },
  {
   "cell_type": "code",
   "execution_count": null,
   "metadata": {},
   "outputs": [],
   "source": [
    "features = ['Crossing', 'Finishing']\n",
    "values = data[features]\n",
    "values.head()"
   ]
  },
  {
   "cell_type": "code",
   "execution_count": null,
   "metadata": {},
   "outputs": [],
   "source": [
    "values.describe()"
   ]
  },
  {
   "cell_type": "code",
   "execution_count": null,
   "metadata": {},
   "outputs": [],
   "source": [
    "## YOUR CODE HERE\n"
   ]
  },
  {
   "cell_type": "markdown",
   "metadata": {},
   "source": [
    "# Plot functions\n",
    "\n",
    "Extra bonus: there is a list of visualizations that you could find useful for your individual and group excercise. Have fun!"
   ]
  },
  {
   "cell_type": "code",
   "execution_count": null,
   "metadata": {},
   "outputs": [],
   "source": [
    "# heatmaps are usefult to represent matrices of values (such as a neural network layer) and functions\n",
    "\n",
    "plt.subplot(221)\n",
    "uniform_data = np.random.rand(128, 128)\n",
    "ax = sns.heatmap(uniform_data, square=True)\n",
    "ax.set_title('Sequential heatmap for uniform random data')\n",
    "ax.set(xticklabels=[], yticklabels=[])\n",
    "\n",
    "plt.subplot(222)\n",
    "normal_data = np.random.randn(128, 128)\n",
    "ax = sns.heatmap(normal_data, center=0, square=True)\n",
    "ax.set_title('Diverget heatmap for uniform random data (centered on mean)')\n",
    "ax.set(xticklabels=[], yticklabels=[])\n",
    "\n",
    "plt.subplot(223)\n",
    "# another use of an heatmap is to show the correlation between variables (calculated with `DataFrame.corr()`)\n",
    "correlation = data[data.columns.values[54:83]].corr()\n",
    "ax = sns.heatmap(correlation, cmap=diverging_examples[0], square=True)\n",
    "ax.set_title('Correlation heatmap')\n",
    "\n",
    "# Hierarchically-clustered heatmap\n",
    "g = sns.clustermap(correlation, cmap=diverging_examples[0], square=True)\n",
    "g.fig.suptitle('Hierarchically-clustered heatmap')\n",
    "plt.show()\n",
    "\n",
    "\n",
    "jointplots_kinds= ['scatter', 'kde', 'hex', 'reg']\n",
    "\"\"\"\n",
    "scatter(default): scatterplot with marginal histograms\n",
    "kde:  kernel density estimate\n",
    "hex:  joint histogram\n",
    "reg:  regression and kernel density estimates\n",
    "\"\"\"\n",
    "\n",
    "with sns.axes_style('white'):\n",
    "    g = sns.jointplot('GKDiving', 'GKHandling', data, kind=jointplots_kinds[0])\n",
    "g.fig.suptitle('Diving/Handling correlation')\n",
    "\n",
    "plt.show()"
   ]
  }
 ],
 "metadata": {
  "kernelspec": {
   "display_name": "Python 3",
   "language": "python",
   "name": "python3"
  },
  "language_info": {
   "codemirror_mode": {
    "name": "ipython",
    "version": 3
   },
   "file_extension": ".py",
   "mimetype": "text/x-python",
   "name": "python",
   "nbconvert_exporter": "python",
   "pygments_lexer": "ipython3",
   "version": "3.6.5"
  }
 },
 "nbformat": 4,
 "nbformat_minor": 2
}
